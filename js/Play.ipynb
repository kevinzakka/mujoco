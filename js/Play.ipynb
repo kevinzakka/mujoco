{
 "cells": [
  {
   "cell_type": "code",
   "execution_count": null,
   "id": "0b5cd5e2",
   "metadata": {},
   "outputs": [],
   "source": [
    "from IPython.display import HTML, clear_output\n",
    "\n",
    "!pip install -q mujoco dm_control transforms3d\n",
    "!pip install -q git+https://github.com/kevinzakka/brax\n",
    "clear_output()\n",
    "\n",
    "from typing import List\n",
    "\n",
    "import numpy as np\n",
    "import mujoco\n",
    "from brax.tools import mujoco as braxmjc\n",
    "\n",
    "!git clone -b js-renderer https://github.com/kevinzakka/mujoco.git\n",
    "%cd mujoco/js/\n",
    "from mujoco_html import CartesianPose, render\n",
    "clear_output()"
   ]
  },
  {
   "cell_type": "code",
   "execution_count": null,
   "id": "9fc1e192",
   "metadata": {},
   "outputs": [],
   "source": [
    "# Load the the model.\n",
    "model = mujoco.MjModel.from_xml_path(\"ant_scene.xml\")\n",
    "data = mujoco.MjData(model)\n",
    "\n",
    "with open(\"ant_scene.xml\", \"r\") as f:\n",
    "    xml_string = f.read()\n",
    "\n",
    "m = braxmjc.MujocoConverter(\n",
    "    xml_string,\n",
    "    ignore_unsupported_joints=True,\n",
    "    add_collision_pairs=True,\n",
    ")\n",
    "config = m.config\n",
    "config.dt = model.opt.timestep"
   ]
  },
  {
   "cell_type": "code",
   "execution_count": null,
   "id": "91d874f2",
   "metadata": {},
   "outputs": [],
   "source": [
    "# This will contain Cartesian poses of the bodies in the world frame.\n",
    "frames: List[CartesianPose] = []\n",
    "\n",
    "# Apply random controls for a 2 second duration.\n",
    "while data.time < 2.0:\n",
    "    data.ctrl = np.random.uniform(*model.actuator_ctrlrange.T)\n",
    "    mujoco.mj_step(model, data)\n",
    "    frames.append(CartesianPose.from_mjdata(data))"
   ]
  },
  {
   "cell_type": "code",
   "execution_count": null,
   "id": "e4e74744",
   "metadata": {},
   "outputs": [],
   "source": [
    "HTML(render(config, frames))"
   ]
  }
 ],
 "metadata": {
  "kernelspec": {
   "display_name": "Python 3.8.13 ('dexterity')",
   "language": "python",
   "name": "python3"
  },
  "language_info": {
   "codemirror_mode": {
    "name": "ipython",
    "version": 3
   },
   "file_extension": ".py",
   "mimetype": "text/x-python",
   "name": "python",
   "nbconvert_exporter": "python",
   "pygments_lexer": "ipython3",
   "version": "3.8.13"
  },
  "vscode": {
   "interpreter": {
    "hash": "7f5a3d8fb9cac4b0ae28f46fa4e13d6992388b7d3ae70266b186b816d5ee0c43"
   }
  }
 },
 "nbformat": 4,
 "nbformat_minor": 5
}
